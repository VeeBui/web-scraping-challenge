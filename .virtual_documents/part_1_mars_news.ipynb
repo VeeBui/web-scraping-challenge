


# Import Splinter and BeautifulSoup
from splinter import Browser
from bs4 import BeautifulSoup


browser = Browser('chrome')





# Visit the Mars news site
url = 'https://static.bc-edx.com/data/web/mars_news/index.html'
browser.visit(url)





# Create a Beautiful Soup object
html = browser.html
soup = BeautifulSoup(html, 'html.parser')


# Extract all the text elements
txt_els = soup.find_all(class_="list_text")





# Create an empty list to store the dictionaries
news_list = []


# Loop through the text elements
for el in txt_els:
    # New dictionary
    curr_dict = {}
    
    # Extract the title and preview text from the elements
    curr_dict["title"] = el.find(class_="content_title").text
    curr_dict["preview"] = el.find(class_="article_teaser_body").text

    # Add the dictionary to the list
    news_list.append(curr_dict)


# Print the list to confirm success
news_list


browser.quit()


# Save to JSON
import json
with open('Mars_News.json', 'w') as fout:
    json.dump(news_list , fout)



