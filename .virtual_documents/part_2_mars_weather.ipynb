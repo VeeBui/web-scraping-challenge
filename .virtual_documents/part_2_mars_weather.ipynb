


# Import relevant libraries
from splinter import Browser
from bs4 import BeautifulSoup
import matplotlib.pyplot as plt
import pandas as pd


from selenium import webdriver

browser = Browser('chrome')





# Visit the website
# https://static.bc-edx.com/data/web/mars_facts/temperature.html
url = "https://static.bc-edx.com/data/web/mars_facts/temperature.html"
browser.visit(url)





# Create a Beautiful Soup Object
html = browser.html
soup = BeautifulSoup(html, 'html.parser')


# Extract all rows of data
table = soup.find('table')
rows = table.find_all('tr', class_="data-row")
rows


# Get headings row
headings_html = table.find_all('tr')[0]
headings_html = headings_html.find_all('th')

headings = []
for i in range(0,len(headings_html)):
    headings.append(headings_html[i].text)


# Display headings
headings





# Create an empty list
mars_data = []

# Loop through the scraped data to create a list of rows
for row in rows:
    # empty dictionary
    row_data = {}

    # current row elements
    curr_row = row.find_all('td')

    # put into dictionary
    for i in range(0,len(curr_row)):
        row_data[headings[i]] = curr_row[i].text
    mars_data.append(row_data)
mars_data


# Create a Pandas DataFrame by using the list of rows and a list of the column names
mars_df = pd.DataFrame(mars_data)


# Confirm DataFrame was created successfully
mars_df.head()





# Examine data type of each column
mars_df.dtypes


# Change data types for data analysis
mars_df[["sol", "ls", "month", "min_temp", "pressure"]] = mars_df[["sol", "ls", "month", "min_temp", "pressure"]].apply(pd.to_numeric)

mars_df['terrestrial_date'] = pd.to_datetime(mars_df['terrestrial_date'], format="%Y-%m-%d")


# Confirm type changes were successful by examining data types again
mars_df.dtypes





# 1. How many months are there on Mars?
mars_df.groupby("month").count()["id"]


# 2. How many Martian days' worth of data are there?
mars_df["sol"].count()


# 3. What is the average low temperature by month?
av_min_temp_by_month = mars_df.groupby("month")["min_temp"].mean()
av_min_temp_by_month


# Plot the average temperature by month
# plotting
av_min_temp_by_month.plot(kind="bar")

# pretty
plt.ylim(-90,0)
plt.ylabel("Temperature in Celcius")
plt.xlabel("Month")
plt.title("Average Minimum Temp on Mars by month")

# show
plt.show()


# Identify the coldest and hottest months in Curiosity's location
av_min_temp_by_month = av_min_temp_by_month.sort_values(ascending=True)

# plotting
av_min_temp_by_month.plot(kind="bar")

# pretty
plt.ylim(-90,0)
plt.ylabel("Temperature in Celcius")
plt.xlabel("Month")
plt.title("Average Minimum Temp on Mars by month")

# show
plt.show()

# printing
print(f"The coldest month in Curiosity's location is: month %d at %.2f deg C" % (av_min_temp_by_month.index[0], av_min_temp_by_month.iloc[0]))
print(f"The hottest month in Curiosity's location is: month %d at %.2f deg C" % (av_min_temp_by_month.index[-1], av_min_temp_by_month.iloc[-1]))


# 4. Average pressure by Martian month
av_pressure_by_month = mars_df.groupby("month")["pressure"].mean()
av_pressure_by_month


# Plot the average pressure by month
# Identify the lowest and highest pressure months in Curiosity's location
av_pressure_by_month = av_pressure_by_month.sort_values(ascending=True)

# plotting
av_pressure_by_month.plot(kind="bar")

# pretty
plt.ylabel("Atmospheric Pressure")
plt.xlabel("Month")
plt.title("Average Pressure on Mars by month")

# show
plt.show()

# printing
print(f"The lowest pressure month in Curiosity's location is: month %d at %.2f atm" % (av_pressure_by_month.index[0], av_pressure_by_month.iloc[0]))
print(f"The highes pressure month in Curiosity's location is: month %d at %.2f atm" % (av_pressure_by_month.index[-1], av_pressure_by_month.iloc[-1]))


# 5. How many terrestrial (earth) days are there in a Martian year?

# plotting
mars_df.plot.scatter(x="terrestrial_date", y="min_temp")

# pretty
plt.ylabel("Minimum Temperature")
plt.xlabel("Terrestrial Date")
plt.title("Cycle of Mars, as Shown by Temperature")

# show
plt.show()














# Write the data to a CSV
mars_df.to_csv('Mars_Weather.csv', index=False)  


browser.quit()



